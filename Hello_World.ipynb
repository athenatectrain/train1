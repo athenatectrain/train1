{
 "cells": [
  {
   "cell_type": "code",
   "execution_count": null,
   "id": "06154bb0",
   "metadata": {},
   "outputs": [
    {
     "name": "stdout",
     "output_type": "stream",
     "text": [
      "Test case 1: Hello, world, this is a test.\n",
      "Test case 2: Hello, world, Python is fun!\n",
      "Test case 3: Hello, world, \n",
      "Test case 4: Hello, world, my name is Kousuke\n",
      "Test case 5: Hello, world, 今日の日付は2025年6月16日です\n"
     ]
    }
   ],
   "source": [
    "#文頭に\"Hello World,\"を付与する関数を作成\n",
    "def add_hello_world(text):\n",
    "\n",
    "    return \"Hello, world, \" + text\n",
    "\n",
    "# テストケース\n",
    "test_cases = [\n",
    "    \"this is a test.\",\n",
    "    \"Python is fun!\",\n",
    "    \"\",\n",
    "    \"my name is Kousuke\",\n",
    "    \"今日の日付は2025年6月16日です\"\n",
    "]\n",
    "\n",
    "# テスト実行\n",
    "for i, case in enumerate(test_cases, 1):\n",
    "    result = add_hello_world(case)\n",
    "    print(f\"Test case {i}: {result}\")\n"
   ]
  }
 ],
 "metadata": {
  "kernelspec": {
   "display_name": "base",
   "language": "python",
   "name": "python3"
  },
  "language_info": {
   "codemirror_mode": {
    "name": "ipython",
    "version": 3
   },
   "file_extension": ".py",
   "mimetype": "text/x-python",
   "name": "python",
   "nbconvert_exporter": "python",
   "pygments_lexer": "ipython3",
   "version": "3.11.7"
  }
 },
 "nbformat": 4,
 "nbformat_minor": 5
}
